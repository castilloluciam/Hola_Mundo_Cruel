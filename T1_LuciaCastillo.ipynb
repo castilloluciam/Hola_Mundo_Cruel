{
 "cells": [
  {
   "cell_type": "markdown",
   "metadata": {},
   "source": [
    "# <font color= #8A0880> Tarea 1. **Lucía Castillo**</font>\n"
   ]
  },
  {
   "cell_type": "markdown",
   "metadata": {},
   "source": [
    "# `Presentación Personal`"
   ]
  },
  {
   "cell_type": "markdown",
   "metadata": {},
   "source": [
    "<img style=\"float: left; margin: 0px 0px 15px 15px;\" src=\"Lucy.jpg\" width=\"200px\" height=\"100px\" />\n",
    "\n",
    "\n",
    "\n",
    "### Soy **Lucía Castillo** , tengo 22 años. Nací el 13 de diciembre de 1997 en Guadalajara. Ese día es histórico en la ciudad, ya que nevó despues de más de 100 años, hasta la fecha no ha vuelto a pasar. \n",
    "\n",
    "\n",
    "\n"
   ]
  },
  {
   "cell_type": "markdown",
   "metadata": {},
   "source": [
    "<img style=\"float: right; margin: 0px 0px 15px 15px;\" src=\"familia.jpg\" width=\"200px\" height=\"100px\" />\n",
    "\n",
    "### Mi mamá fue mamá soltera, me tuvo a sus 32 años y nunca me faltó nada. A mis 6 años tuvo a mi hermana Mabel, ella nació el 23 de diciembre y lo consideré mi regalo de navidad. "
   ]
  },
  {
   "cell_type": "markdown",
   "metadata": {},
   "source": [
    "## Vida escolar y profesional\n",
    "\n",
    "### Estudié la carrera tecnologa de Control Automático en el CETI Colomos, después me tomé 6 meses para elegir mi carrera universitaria. Estuve trabajando en un café porque siempre había querido ser barista y además tomé un diplomado de oratoria. Quería estudiar Ing. Financiera en Cdmx o actuaría en la UNAM pero no me gustó la ciudad para vivir, trabajar y estudiar al mismo tiempo. \n",
    "\n",
    "\n"
   ]
  },
  {
   "cell_type": "markdown",
   "metadata": {},
   "source": []
  },
  {
   "cell_type": "markdown",
   "metadata": {},
   "source": [
    "## Gustos y Tiempos libres\n",
    "\n",
    "### Me gusta escuchar música mientras pasa el día. Mi género favorito es el rock, escucho a Gustavo Cerati, Sting, The Beatles y además mucho HipHop/Rap (de muchos estilos), entre otros. Creo que toda la música es buena, respeto todos los géneros aunque no sean tanto mi estilo. \n",
    "\n",
    "### Me encanta viajar a lugares nuevos, me gusta la sensación de estar en un lugar donde no conozco nada. Nunca he viajado fuera de Mexico pero espero en un futuro lograrlo. También me gusta el sentimiento de aprender algo nuevo ya sea en viajes o en mi vida diaria. \n",
    "\n",
    "### Esta cuarentena además de aprender a estar en mi casa tantas horas, me di cuenta que puedo ver muchas series, mis favoritas han sido:\n",
    "+ Las sagas de Avatar\n",
    "+ Brooklyn 99\n",
    "+ Downton Abbey \n",
    "+ The Big Bang Theory.\n",
    "+ RBD Y CHAVO DEL 8"
   ]
  },
  {
   "cell_type": "markdown",
   "metadata": {},
   "source": [
    "# `RESUMENES`"
   ]
  },
  {
   "cell_type": "markdown",
   "metadata": {},
   "source": [
    "# Why Python is so popular with developers: 3 reasons the language has exploded\n",
    "\n",
    "### Python es el lenguaje de programación con mas crecimiento en estos ultimos años, esto se debe a tres principales razones: \n",
    "+ **Es muy fácil de aprender**, su sintaxis es simple. Para alguien novato en la programación la interfaz y el lenguaje son muy amigables.\n",
    "+ Python ha tenido mucho **crecimiento respecto a AI, Machine Learning y el data science**. Tiene muy buenas herramientas para la ciencia de datos y los expertos le ven buen futuro, además de tener aplicaciones para DevOps, desarrollo web y cualquier cosa.\n",
    "+ **Una gran comunidad de desarrolladores**. Hay muchas bibliotecas para Python, es de código abierto entonces puede que encuentres una solución a tu problema en algun lugar de internet."
   ]
  },
  {
   "cell_type": "markdown",
   "metadata": {},
   "source": [
    "# Python: 7 Important Reasons Why You Should Use Python\n",
    "\n",
    "### Python es de los 10 lenguajes de programación más populares del 2017. Tiene muchas aplicaciones y es un lenguaje de alto nivel. A contunuación 7 razones por las que debes considerar programar en Python :\n",
    "+ **Código legible**: Las reglas de sintaxis permiten que la base del código sea limpia y legible, hay muchas palabras clave en inglés.\n",
    "+ **Paradigmas de programación múltiples**\n",
    "+ **Compatible con las principales plataformas y sistemas** Es compatible con muchos sistemas operativos, permite correr el código en diferentes plataformas sin necesidad de compilarlo de nuevo.\n",
    "+ **Demasiadas bibliotecas*\n",
    "+ **Muchos Marcos y herramkientas de código abierto**\n",
    "+ **Simplifica el desarrollo de software complejo**: Te permite desarrollar apps de proposito cientifico de una manera sencilla gracias a sus funciones incluidas de big data.\n",
    "+ **Adoptar el desarrollo basado en pruebas** "
   ]
  }
 ],
 "metadata": {
  "kernelspec": {
   "display_name": "Python 3",
   "language": "python",
   "name": "python3"
  },
  "language_info": {
   "codemirror_mode": {
    "name": "ipython",
    "version": 3
   },
   "file_extension": ".py",
   "mimetype": "text/x-python",
   "name": "python",
   "nbconvert_exporter": "python",
   "pygments_lexer": "ipython3",
   "version": "3.8.3"
  }
 },
 "nbformat": 4,
 "nbformat_minor": 4
}
